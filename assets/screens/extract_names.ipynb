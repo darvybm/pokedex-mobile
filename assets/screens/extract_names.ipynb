{
 "cells": [
  {
   "cell_type": "code",
   "execution_count": null,
   "metadata": {
    "is_executing": true
   },
   "outputs": [],
   "source": [
    "import os"
   ]
  },
  {
   "cell_type": "code",
   "execution_count": 8,
   "metadata": {},
   "outputs": [
    {
     "ename": "SyntaxError",
     "evalue": "(unicode error) 'unicodeescape' codec can't decode bytes in position 0-1: truncated \\UXXXXXXXX escape (1823697614.py, line 2)",
     "output_type": "error",
     "traceback": [
      "\u001B[1;36m  Cell \u001B[1;32mIn[8], line 2\u001B[1;36m\u001B[0m\n\u001B[1;33m    directorio = \"\\Users\\darvy\\Desktop\\PUCMM\\Proyectos_ICC_451\\PF_Pokedex\\assets\\screens\"\u001B[0m\n\u001B[1;37m                 ^\u001B[0m\n\u001B[1;31mSyntaxError\u001B[0m\u001B[1;31m:\u001B[0m (unicode error) 'unicodeescape' codec can't decode bytes in position 0-1: truncated \\UXXXXXXXX escape\n"
     ]
    }
   ],
   "source": [
    "# Ruta al directorio que deseas listar\n",
    "directorio = \"C:\\Users\\darvy\\Desktop\\PUCMM\\Proyectos_ICC_451\\PF_Pokedex\\assets\\screens\"\n",
    "\n",
    "# Verificar si la ruta es un directorio válido\n",
    "if os.path.isdir(directorio):\n",
    "    # Obtener la lista de archivos en el directorio\n",
    "    archivos = os.listdir(directorio)\n",
    "    \n",
    "    # Mostrar los nombres de los archivos\n",
    "    print(\"Archivos en el directorio:\")\n",
    "    for archivo in archivos:\n",
    "        print(archivo)\n",
    "else:\n",
    "    print(\"La ruta especificada no es un directorio válido.\")"
   ]
  },
  {
   "cell_type": "code",
   "execution_count": null,
   "metadata": {},
   "outputs": [],
   "source": []
  }
 ],
 "metadata": {
  "kernelspec": {
   "display_name": "Python 3",
   "language": "python",
   "name": "python3"
  },
  "language_info": {
   "codemirror_mode": {
    "name": "ipython",
    "version": 3
   },
   "file_extension": ".py",
   "mimetype": "text/x-python",
   "name": "python",
   "nbconvert_exporter": "python",
   "pygments_lexer": "ipython3",
   "version": "3.12.0"
  }
 },
 "nbformat": 4,
 "nbformat_minor": 2
}
